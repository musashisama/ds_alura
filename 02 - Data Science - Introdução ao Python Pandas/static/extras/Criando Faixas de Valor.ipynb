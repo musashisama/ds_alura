{
 "cells": [
  {
   "cell_type": "markdown",
   "metadata": {},
   "source": [
    "## Criando Faixas de Valor"
   ]
  },
  {
   "cell_type": "code",
   "execution_count": 1,
   "metadata": {},
   "outputs": [],
   "source": [
    "import pandas as pd"
   ]
  },
  {
   "cell_type": "code",
   "execution_count": 2,
   "metadata": {},
   "outputs": [],
   "source": [
    "dados = pd.read_csv(\"dados/aluguel.csv\", sep=\";\")"
   ]
  },
  {
   "cell_type": "code",
   "execution_count": 3,
   "metadata": {},
   "outputs": [
    {
     "data": {
      "text/html": [
       "<div>\n",
       "<style scoped>\n",
       "    .dataframe tbody tr th:only-of-type {\n",
       "        vertical-align: middle;\n",
       "    }\n",
       "\n",
       "    .dataframe tbody tr th {\n",
       "        vertical-align: top;\n",
       "    }\n",
       "\n",
       "    .dataframe thead th {\n",
       "        text-align: right;\n",
       "    }\n",
       "</style>\n",
       "<table border=\"1\" class=\"dataframe\">\n",
       "  <thead>\n",
       "    <tr style=\"text-align: right;\">\n",
       "      <th></th>\n",
       "      <th>Tipo</th>\n",
       "      <th>Bairro</th>\n",
       "      <th>Quartos</th>\n",
       "      <th>Vagas</th>\n",
       "      <th>Suites</th>\n",
       "      <th>Area</th>\n",
       "      <th>Valor</th>\n",
       "      <th>Condominio</th>\n",
       "      <th>IPTU</th>\n",
       "      <th>Valor m2</th>\n",
       "      <th>Tipo Agregado</th>\n",
       "    </tr>\n",
       "  </thead>\n",
       "  <tbody>\n",
       "    <tr>\n",
       "      <th>0</th>\n",
       "      <td>Apartamento</td>\n",
       "      <td>Centro</td>\n",
       "      <td>1</td>\n",
       "      <td>0</td>\n",
       "      <td>0</td>\n",
       "      <td>15</td>\n",
       "      <td>800.0</td>\n",
       "      <td>390.0</td>\n",
       "      <td>20.0</td>\n",
       "      <td>53.33</td>\n",
       "      <td>Apartamento</td>\n",
       "    </tr>\n",
       "    <tr>\n",
       "      <th>1</th>\n",
       "      <td>Apartamento</td>\n",
       "      <td>Higienópolis</td>\n",
       "      <td>1</td>\n",
       "      <td>0</td>\n",
       "      <td>0</td>\n",
       "      <td>48</td>\n",
       "      <td>800.0</td>\n",
       "      <td>230.0</td>\n",
       "      <td>0.0</td>\n",
       "      <td>16.67</td>\n",
       "      <td>Apartamento</td>\n",
       "    </tr>\n",
       "    <tr>\n",
       "      <th>2</th>\n",
       "      <td>Apartamento</td>\n",
       "      <td>Cachambi</td>\n",
       "      <td>2</td>\n",
       "      <td>0</td>\n",
       "      <td>0</td>\n",
       "      <td>50</td>\n",
       "      <td>1300.0</td>\n",
       "      <td>301.0</td>\n",
       "      <td>17.0</td>\n",
       "      <td>26.00</td>\n",
       "      <td>Apartamento</td>\n",
       "    </tr>\n",
       "    <tr>\n",
       "      <th>3</th>\n",
       "      <td>Apartamento</td>\n",
       "      <td>Grajaú</td>\n",
       "      <td>2</td>\n",
       "      <td>1</td>\n",
       "      <td>0</td>\n",
       "      <td>70</td>\n",
       "      <td>1500.0</td>\n",
       "      <td>642.0</td>\n",
       "      <td>74.0</td>\n",
       "      <td>21.43</td>\n",
       "      <td>Apartamento</td>\n",
       "    </tr>\n",
       "    <tr>\n",
       "      <th>4</th>\n",
       "      <td>Apartamento</td>\n",
       "      <td>Lins de Vasconcelos</td>\n",
       "      <td>3</td>\n",
       "      <td>1</td>\n",
       "      <td>1</td>\n",
       "      <td>90</td>\n",
       "      <td>1500.0</td>\n",
       "      <td>455.0</td>\n",
       "      <td>14.0</td>\n",
       "      <td>16.67</td>\n",
       "      <td>Apartamento</td>\n",
       "    </tr>\n",
       "  </tbody>\n",
       "</table>\n",
       "</div>"
      ],
      "text/plain": [
       "          Tipo               Bairro  Quartos  Vagas  Suites  Area   Valor  \\\n",
       "0  Apartamento               Centro        1      0       0    15   800.0   \n",
       "1  Apartamento         Higienópolis        1      0       0    48   800.0   \n",
       "2  Apartamento             Cachambi        2      0       0    50  1300.0   \n",
       "3  Apartamento               Grajaú        2      1       0    70  1500.0   \n",
       "4  Apartamento  Lins de Vasconcelos        3      1       1    90  1500.0   \n",
       "\n",
       "   Condominio  IPTU  Valor m2 Tipo Agregado  \n",
       "0       390.0  20.0     53.33   Apartamento  \n",
       "1       230.0   0.0     16.67   Apartamento  \n",
       "2       301.0  17.0     26.00   Apartamento  \n",
       "3       642.0  74.0     21.43   Apartamento  \n",
       "4       455.0  14.0     16.67   Apartamento  "
      ]
     },
     "execution_count": 3,
     "metadata": {},
     "output_type": "execute_result"
    }
   ],
   "source": [
    "dados.head()"
   ]
  },
  {
   "cell_type": "code",
   "execution_count": 4,
   "metadata": {},
   "outputs": [],
   "source": [
    "# 1 e 2 quartos\n",
    "# 3 e 4 quartos\n",
    "# 5 e 6 quartos\n",
    "# 7 ou mais\n",
    "classes = [0,2,4,6,100]"
   ]
  },
  {
   "cell_type": "code",
   "execution_count": 5,
   "metadata": {},
   "outputs": [],
   "source": [
    "quartos = pd.cut(dados[\"Quartos\"],classes)"
   ]
  },
  {
   "cell_type": "code",
   "execution_count": 6,
   "metadata": {},
   "outputs": [
    {
     "data": {
      "text/plain": [
       "0        (0.0, 2.0]\n",
       "1        (0.0, 2.0]\n",
       "2        (0.0, 2.0]\n",
       "3        (0.0, 2.0]\n",
       "4        (2.0, 4.0]\n",
       "5        (0.0, 2.0]\n",
       "6        (2.0, 4.0]\n",
       "7        (0.0, 2.0]\n",
       "8        (0.0, 2.0]\n",
       "9        (2.0, 4.0]\n",
       "10       (0.0, 2.0]\n",
       "11       (2.0, 4.0]\n",
       "12       (0.0, 2.0]\n",
       "13       (2.0, 4.0]\n",
       "14       (0.0, 2.0]\n",
       "15       (2.0, 4.0]\n",
       "16       (2.0, 4.0]\n",
       "17       (2.0, 4.0]\n",
       "18       (2.0, 4.0]\n",
       "19       (2.0, 4.0]\n",
       "20       (2.0, 4.0]\n",
       "21       (2.0, 4.0]\n",
       "22       (0.0, 2.0]\n",
       "23       (2.0, 4.0]\n",
       "24       (2.0, 4.0]\n",
       "25       (0.0, 2.0]\n",
       "26       (2.0, 4.0]\n",
       "27       (0.0, 2.0]\n",
       "28       (0.0, 2.0]\n",
       "29       (0.0, 2.0]\n",
       "            ...    \n",
       "19801           NaN\n",
       "19802    (0.0, 2.0]\n",
       "19803    (0.0, 2.0]\n",
       "19804    (0.0, 2.0]\n",
       "19805    (0.0, 2.0]\n",
       "19806    (0.0, 2.0]\n",
       "19807    (0.0, 2.0]\n",
       "19808    (0.0, 2.0]\n",
       "19809    (0.0, 2.0]\n",
       "19810    (0.0, 2.0]\n",
       "19811    (0.0, 2.0]\n",
       "19812           NaN\n",
       "19813    (0.0, 2.0]\n",
       "19814    (0.0, 2.0]\n",
       "19815    (0.0, 2.0]\n",
       "19816    (0.0, 2.0]\n",
       "19817    (0.0, 2.0]\n",
       "19818    (0.0, 2.0]\n",
       "19819    (0.0, 2.0]\n",
       "19820    (0.0, 2.0]\n",
       "19821    (0.0, 2.0]\n",
       "19822    (0.0, 2.0]\n",
       "19823    (0.0, 2.0]\n",
       "19824    (0.0, 2.0]\n",
       "19825    (0.0, 2.0]\n",
       "19826    (0.0, 2.0]\n",
       "19827    (0.0, 2.0]\n",
       "19828    (0.0, 2.0]\n",
       "19829    (0.0, 2.0]\n",
       "19830           NaN\n",
       "Name: Quartos, Length: 19831, dtype: category\n",
       "Categories (4, interval[int64]): [(0, 2] < (2, 4] < (4, 6] < (6, 100]]"
      ]
     },
     "execution_count": 6,
     "metadata": {},
     "output_type": "execute_result"
    }
   ],
   "source": [
    "quartos"
   ]
  },
  {
   "cell_type": "code",
   "execution_count": 7,
   "metadata": {},
   "outputs": [
    {
     "data": {
      "text/plain": [
       "(0, 2]      11074\n",
       "(2, 4]       8094\n",
       "(4, 6]        470\n",
       "(6, 100]       36\n",
       "Name: Quartos, dtype: int64"
      ]
     },
     "execution_count": 7,
     "metadata": {},
     "output_type": "execute_result"
    }
   ],
   "source": [
    "pd.value_counts(quartos)"
   ]
  },
  {
   "cell_type": "code",
   "execution_count": 8,
   "metadata": {},
   "outputs": [],
   "source": [
    "labels = ['1 e 2 quartos', '3 e 4 quartos', '5 e 6 quartos', '7 ou mais quartos']"
   ]
  },
  {
   "cell_type": "code",
   "execution_count": 9,
   "metadata": {},
   "outputs": [],
   "source": [
    "quartos = pd.cut(dados[\"Quartos\"],classes,labels = labels)"
   ]
  },
  {
   "cell_type": "code",
   "execution_count": 10,
   "metadata": {},
   "outputs": [
    {
     "data": {
      "text/plain": [
       "0        1 e 2 quartos\n",
       "1        1 e 2 quartos\n",
       "2        1 e 2 quartos\n",
       "3        1 e 2 quartos\n",
       "4        3 e 4 quartos\n",
       "5        1 e 2 quartos\n",
       "6        3 e 4 quartos\n",
       "7        1 e 2 quartos\n",
       "8        1 e 2 quartos\n",
       "9        3 e 4 quartos\n",
       "10       1 e 2 quartos\n",
       "11       3 e 4 quartos\n",
       "12       1 e 2 quartos\n",
       "13       3 e 4 quartos\n",
       "14       1 e 2 quartos\n",
       "15       3 e 4 quartos\n",
       "16       3 e 4 quartos\n",
       "17       3 e 4 quartos\n",
       "18       3 e 4 quartos\n",
       "19       3 e 4 quartos\n",
       "20       3 e 4 quartos\n",
       "21       3 e 4 quartos\n",
       "22       1 e 2 quartos\n",
       "23       3 e 4 quartos\n",
       "24       3 e 4 quartos\n",
       "25       1 e 2 quartos\n",
       "26       3 e 4 quartos\n",
       "27       1 e 2 quartos\n",
       "28       1 e 2 quartos\n",
       "29       1 e 2 quartos\n",
       "             ...      \n",
       "19801              NaN\n",
       "19802    1 e 2 quartos\n",
       "19803    1 e 2 quartos\n",
       "19804    1 e 2 quartos\n",
       "19805    1 e 2 quartos\n",
       "19806    1 e 2 quartos\n",
       "19807    1 e 2 quartos\n",
       "19808    1 e 2 quartos\n",
       "19809    1 e 2 quartos\n",
       "19810    1 e 2 quartos\n",
       "19811    1 e 2 quartos\n",
       "19812              NaN\n",
       "19813    1 e 2 quartos\n",
       "19814    1 e 2 quartos\n",
       "19815    1 e 2 quartos\n",
       "19816    1 e 2 quartos\n",
       "19817    1 e 2 quartos\n",
       "19818    1 e 2 quartos\n",
       "19819    1 e 2 quartos\n",
       "19820    1 e 2 quartos\n",
       "19821    1 e 2 quartos\n",
       "19822    1 e 2 quartos\n",
       "19823    1 e 2 quartos\n",
       "19824    1 e 2 quartos\n",
       "19825    1 e 2 quartos\n",
       "19826    1 e 2 quartos\n",
       "19827    1 e 2 quartos\n",
       "19828    1 e 2 quartos\n",
       "19829    1 e 2 quartos\n",
       "19830              NaN\n",
       "Name: Quartos, Length: 19831, dtype: category\n",
       "Categories (4, object): [1 e 2 quartos < 3 e 4 quartos < 5 e 6 quartos < 7 ou mais quartos]"
      ]
     },
     "execution_count": 10,
     "metadata": {},
     "output_type": "execute_result"
    }
   ],
   "source": [
    "quartos"
   ]
  },
  {
   "cell_type": "code",
   "execution_count": 11,
   "metadata": {},
   "outputs": [
    {
     "data": {
      "text/plain": [
       "1 e 2 quartos        11074\n",
       "3 e 4 quartos         8094\n",
       "5 e 6 quartos          470\n",
       "7 ou mais quartos       36\n",
       "Name: Quartos, dtype: int64"
      ]
     },
     "execution_count": 11,
     "metadata": {},
     "output_type": "execute_result"
    }
   ],
   "source": [
    "pd.value_counts(quartos)"
   ]
  },
  {
   "cell_type": "code",
   "execution_count": null,
   "metadata": {},
   "outputs": [],
   "source": []
  }
 ],
 "metadata": {
  "kernelspec": {
   "display_name": "Python 3",
   "language": "python",
   "name": "python3"
  },
  "language_info": {
   "codemirror_mode": {
    "name": "ipython",
    "version": 3
   },
   "file_extension": ".py",
   "mimetype": "text/x-python",
   "name": "python",
   "nbconvert_exporter": "python",
   "pygments_lexer": "ipython3",
   "version": "3.7.3"
  }
 },
 "nbformat": 4,
 "nbformat_minor": 2
}
